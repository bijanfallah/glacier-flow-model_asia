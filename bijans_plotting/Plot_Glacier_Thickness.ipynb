{
 "cells": [
  {
   "cell_type": "markdown",
   "metadata": {},
   "source": [
    "# Plot the Glciers Model Output \n",
    "\n",
    "- Compare the model output against the glacier outlines of Randolph Glacier Inventory 6.0 (https://www.glims.org/RGI/) for the Steady State. \n",
    "\n",
    "- Plot each level of warming impact on the glacier thickness\n",
    "\n"
   ]
  },
  {
   "cell_type": "code",
   "execution_count": 1,
   "metadata": {},
   "outputs": [
    {
     "name": "stdout",
     "output_type": "stream",
     "text": [
      "Warning: ecCodes 2.21.0 or higher is recommended. You are running version 2.16.0\n"
     ]
    }
   ],
   "source": [
    "# import libraries: \n",
    "from oggm import utils\n",
    "import geopandas as gpd\n",
    "import xarray as xr\n",
    "import matplotlib.pyplot as plt\n",
    "import cartopy.crs as ccrs\n",
    "import cartopy.feature as cf\n",
    "import numpy as np\n",
    "import geopandas as gpd\n",
    "import os"
   ]
  },
  {
   "cell_type": "code",
   "execution_count": 2,
   "metadata": {},
   "outputs": [],
   "source": [
    "# read RGI glacier outlines : \n",
    "utils.get_rgi_dir(version='62')  # path to the data after download\n",
    "#https://oggm.org/tutorials/stable/notebooks/working_with_rgi.html\n",
    "fr = utils.get_rgi_region_file(13, version='62')  # \n",
    "gdf = gpd.read_file(fr)"
   ]
  },
  {
   "cell_type": "code",
   "execution_count": 3,
   "metadata": {},
   "outputs": [],
   "source": [
    "def plot_tiff(tiff_data, delta, file_name, rgi=True):\n",
    "    # read the tiff data and extract the first band which is the Glacier thickness [m]\n",
    "    dem = xr.open_rasterio(tiff_data)\n",
    "    dem = dem[0] #getting the first band\n",
    "    fig = plt.figure(figsize=(10,8) )\n",
    "    ax = plt.axes(projection=ccrs.PlateCarree(),facecolor='white')\n",
    "    xx = np.linspace(70,71,1201)\n",
    "    yy = np.linspace(39,40.,1201)\n",
    "    dx = (xx[1]-xx[0])/2.\n",
    "    dy = (yy[1]-yy[0])/2.\n",
    "    extent = [xx[0]-dx, xx[-1]+dx, yy[0]-dy, yy[-1]+dy]\n",
    "    if rgi:\n",
    "        gdf.plot(ax=ax, facecolor=\"black\",edgecolor='black', lw=1, alpha=1,zorder=0);\n",
    "    plt.imshow(dem,extent=extent, cmap=plt.cm.get_cmap('gist_ncar_r', 32), alpha=.7, vmin=0, vmax=40, zorder=1);\n",
    "    #ax.add_feature(cf.BORDERS)\n",
    "    plt.colorbar(ax = ax,extend='max')\n",
    "    plt.text(70.1,39.1,delta,color=\"k\", fontsize=25)\n",
    "    plt.xlim([70,71.0004166669999961])\n",
    "    plt.ylim([39,40.0004166670000032])\n",
    "    plt.xticks(np.linspace(70,71.0004166669999961,3))\n",
    "    plt.yticks(np.linspace(39,40.0004166670000032,3))\n",
    "    \n",
    "    plt.savefig(file_name, dpi = 300,bbox_inches='tight')\n",
    "    plt.close()"
   ]
  },
  {
   "cell_type": "code",
   "execution_count": null,
   "metadata": {},
   "outputs": [
    {
     "name": "stderr",
     "output_type": "stream",
     "text": [
      "<ipython-input-3-53ac7cb30a4c>:3: DeprecationWarning: open_rasterio is Deprecated in favor of rioxarray. For information about transitioning, see: https://corteva.github.io/rioxarray/stable/getting_started/getting_started.html\n",
      "  dem = xr.open_rasterio(tiff_data)\n"
     ]
    }
   ],
   "source": [
    "######################### Steady State ###################################\n",
    "# some namelist parameters: \n",
    "delta = \"Steady State\"\n",
    "# location of models' output tiff data: \n",
    "tiff_data=\"../ela_4040_m_00045_steady_state/zarafshan/zarafshan_ela4040_m0.00045.tif\"\n",
    "plot_tiff(tiff_data=tiff_data, delta=delta, file_name=\"steady_state.pdf\")"
   ]
  },
  {
   "cell_type": "code",
   "execution_count": 80,
   "metadata": {},
   "outputs": [
    {
     "name": "stdout",
     "output_type": "stream",
     "text": [
      "$\\Delta$T=1°C\n",
      "/home/fallah/Documents/SCRIPTS/glaciers_model_new/glacier-flow-model/ela_4040_m_00045_delta_1/zarafshan/zarafshan_ela4140_m0.00045.tif\n"
     ]
    },
    {
     "name": "stderr",
     "output_type": "stream",
     "text": [
      "<ipython-input-72-53ac7cb30a4c>:3: DeprecationWarning: open_rasterio is Deprecated in favor of rioxarray. For information about transitioning, see: https://corteva.github.io/rioxarray/stable/getting_started/getting_started.html\n",
      "  dem = xr.open_rasterio(tiff_data)\n"
     ]
    },
    {
     "name": "stdout",
     "output_type": "stream",
     "text": [
      "$\\Delta$T=2°C\n",
      "/home/fallah/Documents/SCRIPTS/glaciers_model_new/glacier-flow-model/ela_4040_m_00045_delta_2/zarafshan/zarafshan_ela4240_m0.00045.tif\n"
     ]
    },
    {
     "name": "stderr",
     "output_type": "stream",
     "text": [
      "<ipython-input-72-53ac7cb30a4c>:3: DeprecationWarning: open_rasterio is Deprecated in favor of rioxarray. For information about transitioning, see: https://corteva.github.io/rioxarray/stable/getting_started/getting_started.html\n",
      "  dem = xr.open_rasterio(tiff_data)\n"
     ]
    },
    {
     "name": "stdout",
     "output_type": "stream",
     "text": [
      "$\\Delta$T=3°C\n",
      "/home/fallah/Documents/SCRIPTS/glaciers_model_new/glacier-flow-model/ela_4040_m_00045_delta_3/zarafshan/zarafshan_ela4340_m0.00045.tif\n"
     ]
    },
    {
     "name": "stderr",
     "output_type": "stream",
     "text": [
      "<ipython-input-72-53ac7cb30a4c>:3: DeprecationWarning: open_rasterio is Deprecated in favor of rioxarray. For information about transitioning, see: https://corteva.github.io/rioxarray/stable/getting_started/getting_started.html\n",
      "  dem = xr.open_rasterio(tiff_data)\n"
     ]
    },
    {
     "name": "stdout",
     "output_type": "stream",
     "text": [
      "$\\Delta$T=4°C\n",
      "/home/fallah/Documents/SCRIPTS/glaciers_model_new/glacier-flow-model/ela_4040_m_00045_delta_4/zarafshan/zarafshan_ela4440_m0.00045.tif\n"
     ]
    },
    {
     "name": "stderr",
     "output_type": "stream",
     "text": [
      "<ipython-input-72-53ac7cb30a4c>:3: DeprecationWarning: open_rasterio is Deprecated in favor of rioxarray. For information about transitioning, see: https://corteva.github.io/rioxarray/stable/getting_started/getting_started.html\n",
      "  dem = xr.open_rasterio(tiff_data)\n"
     ]
    },
    {
     "name": "stdout",
     "output_type": "stream",
     "text": [
      "$\\Delta$T=5°C\n",
      "/home/fallah/Documents/SCRIPTS/glaciers_model_new/glacier-flow-model/ela_4040_m_00045_delta_5/zarafshan/zarafshan_ela4540_m0.00045.tif\n"
     ]
    },
    {
     "name": "stderr",
     "output_type": "stream",
     "text": [
      "<ipython-input-72-53ac7cb30a4c>:3: DeprecationWarning: open_rasterio is Deprecated in favor of rioxarray. For information about transitioning, see: https://corteva.github.io/rioxarray/stable/getting_started/getting_started.html\n",
      "  dem = xr.open_rasterio(tiff_data)\n"
     ]
    },
    {
     "name": "stdout",
     "output_type": "stream",
     "text": [
      "$\\Delta$T=6°C\n",
      "/home/fallah/Documents/SCRIPTS/glaciers_model_new/glacier-flow-model/ela_4040_m_00045_delta_6/zarafshan/zarafshan_ela4640_m0.00045.tif\n"
     ]
    },
    {
     "name": "stderr",
     "output_type": "stream",
     "text": [
      "<ipython-input-72-53ac7cb30a4c>:3: DeprecationWarning: open_rasterio is Deprecated in favor of rioxarray. For information about transitioning, see: https://corteva.github.io/rioxarray/stable/getting_started/getting_started.html\n",
      "  dem = xr.open_rasterio(tiff_data)\n"
     ]
    },
    {
     "name": "stdout",
     "output_type": "stream",
     "text": [
      "$\\Delta$T=7°C\n",
      "/home/fallah/Documents/SCRIPTS/glaciers_model_new/glacier-flow-model/ela_4040_m_00045_delta_7/zarafshan/zarafshan_ela4740_m0.00045.tif\n"
     ]
    },
    {
     "name": "stderr",
     "output_type": "stream",
     "text": [
      "<ipython-input-72-53ac7cb30a4c>:3: DeprecationWarning: open_rasterio is Deprecated in favor of rioxarray. For information about transitioning, see: https://corteva.github.io/rioxarray/stable/getting_started/getting_started.html\n",
      "  dem = xr.open_rasterio(tiff_data)\n"
     ]
    },
    {
     "name": "stdout",
     "output_type": "stream",
     "text": [
      "$\\Delta$T=8°C\n",
      "/home/fallah/Documents/SCRIPTS/glaciers_model_new/glacier-flow-model/ela_4040_m_00045_delta_8/zarafshan/zarafshan_ela4840_m0.00045.tif\n"
     ]
    },
    {
     "name": "stderr",
     "output_type": "stream",
     "text": [
      "<ipython-input-72-53ac7cb30a4c>:3: DeprecationWarning: open_rasterio is Deprecated in favor of rioxarray. For information about transitioning, see: https://corteva.github.io/rioxarray/stable/getting_started/getting_started.html\n",
      "  dem = xr.open_rasterio(tiff_data)\n"
     ]
    }
   ],
   "source": [
    "######################### delta ###################################\n",
    "elas = [4140,4240,4340,4440,4540,4640,4740,4840]\n",
    "for d in range(1,9):\n",
    "    \n",
    "    # some namelist parameters: \n",
    "    delta =  \"$\\Delta$T=\"+str(d)+\"°C\"\n",
    "    print(delta)\n",
    "    # location of models' output tiff data: \n",
    "    tiff_data=\"../ela_4040_m_00045_delta_\"+str(d)+\"/zarafshan/zarafshan_ela\"+str(elas[d-1])+\"_m0.00045.tif\"\n",
    "    print(tiff_data)\n",
    "    plot_tiff(tiff_data=tiff_data, delta=delta,file_name=\"delta_\"+str(d)+\".pdf\", rgi=False)\n",
    "    "
   ]
  },
  {
   "cell_type": "code",
   "execution_count": 81,
   "metadata": {},
   "outputs": [
    {
     "data": {
      "text/plain": [
       "0"
      ]
     },
     "execution_count": 81,
     "metadata": {},
     "output_type": "execute_result"
    }
   ],
   "source": [
    "# merge pdfs together:\n",
    "cmd=\"pdfunite steady_state.pdf delta_*.pdf output.pdf\"\n",
    "os.system(cmd)"
   ]
  },
  {
   "cell_type": "code",
   "execution_count": null,
   "metadata": {},
   "outputs": [],
   "source": []
  }
 ],
 "metadata": {
  "kernelspec": {
   "display_name": "Python 3",
   "language": "python",
   "name": "python3"
  },
  "language_info": {
   "codemirror_mode": {
    "name": "ipython",
    "version": 3
   },
   "file_extension": ".py",
   "mimetype": "text/x-python",
   "name": "python",
   "nbconvert_exporter": "python",
   "pygments_lexer": "ipython3",
   "version": "3.8.10"
  }
 },
 "nbformat": 4,
 "nbformat_minor": 4
}
